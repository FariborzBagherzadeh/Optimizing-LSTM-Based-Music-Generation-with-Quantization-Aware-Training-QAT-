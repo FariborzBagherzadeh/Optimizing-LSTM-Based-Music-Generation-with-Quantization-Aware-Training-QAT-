{
 "cells": [
  {
   "cell_type": "code",
   "execution_count": 65,
   "id": "8b3f6090",
   "metadata": {},
   "outputs": [
    {
     "ename": "ValueError",
     "evalue": "No valid sequences found in the dataset. Check your MIDI files.",
     "output_type": "error",
     "traceback": [
      "\u001b[0;31m---------------------------------------------------------------------------\u001b[0m",
      "\u001b[0;31mValueError\u001b[0m                                Traceback (most recent call last)",
      "Cell \u001b[0;32mIn[65], line 115\u001b[0m\n\u001b[1;32m    113\u001b[0m \u001b[38;5;66;03m# Example Usage\u001b[39;00m\n\u001b[1;32m    114\u001b[0m midi_folder \u001b[38;5;241m=\u001b[39m \u001b[38;5;124m\"\u001b[39m\u001b[38;5;124m/home/fariborz/courses/Research/data/maestro-v2.0.0/2006\u001b[39m\u001b[38;5;124m\"\u001b[39m  \u001b[38;5;66;03m# Replace with your MIDI folder path\u001b[39;00m\n\u001b[0;32m--> 115\u001b[0m \u001b[43mtrain_model_piano_roll\u001b[49m\u001b[43m(\u001b[49m\u001b[43mmidi_folder\u001b[49m\u001b[43m,\u001b[49m\u001b[43m \u001b[49m\u001b[43mepochs\u001b[49m\u001b[38;5;241;43m=\u001b[39;49m\u001b[38;5;241;43m20\u001b[39;49m\u001b[43m)\u001b[49m\n\u001b[1;32m    116\u001b[0m latent_vector \u001b[38;5;241m=\u001b[39m np\u001b[38;5;241m.\u001b[39mrandom\u001b[38;5;241m.\u001b[39mnormal(size\u001b[38;5;241m=\u001b[39m(\u001b[38;5;241m1\u001b[39m, latent_dim))\n\u001b[1;32m    117\u001b[0m generated_sequence \u001b[38;5;241m=\u001b[39m generate_music(latent_vector)\n",
      "Cell \u001b[0;32mIn[65], line 92\u001b[0m, in \u001b[0;36mtrain_model_piano_roll\u001b[0;34m(midi_folder, epochs, batch_size)\u001b[0m\n\u001b[1;32m     89\u001b[0m             \u001b[38;5;28mprint\u001b[39m(\u001b[38;5;124mf\u001b[39m\u001b[38;5;124m\"\u001b[39m\u001b[38;5;124mError processing \u001b[39m\u001b[38;5;132;01m{\u001b[39;00mfile_name\u001b[38;5;132;01m}\u001b[39;00m\u001b[38;5;124m: \u001b[39m\u001b[38;5;132;01m{\u001b[39;00me\u001b[38;5;132;01m}\u001b[39;00m\u001b[38;5;124m\"\u001b[39m)\n\u001b[1;32m     91\u001b[0m \u001b[38;5;28;01mif\u001b[39;00m \u001b[38;5;28mlen\u001b[39m(all_sequences) \u001b[38;5;241m==\u001b[39m \u001b[38;5;241m0\u001b[39m:\n\u001b[0;32m---> 92\u001b[0m     \u001b[38;5;28;01mraise\u001b[39;00m \u001b[38;5;167;01mValueError\u001b[39;00m(\u001b[38;5;124m\"\u001b[39m\u001b[38;5;124mNo valid sequences found in the dataset. Check your MIDI files.\u001b[39m\u001b[38;5;124m\"\u001b[39m)\n\u001b[1;32m     94\u001b[0m all_sequences \u001b[38;5;241m=\u001b[39m np\u001b[38;5;241m.\u001b[39marray(all_sequences)\n\u001b[1;32m     95\u001b[0m \u001b[38;5;28mprint\u001b[39m(\u001b[38;5;124m\"\u001b[39m\u001b[38;5;124mDataset Shape:\u001b[39m\u001b[38;5;124m\"\u001b[39m, all_sequences\u001b[38;5;241m.\u001b[39mshape)\n",
      "\u001b[0;31mValueError\u001b[0m: No valid sequences found in the dataset. Check your MIDI files."
     ]
    }
   ],
   "source": [
    "import numpy as np\n",
    "import tensorflow as tf\n",
    "from tensorflow.keras.layers import LSTM, Dense, Input, Lambda, RepeatVector, TimeDistributed\n",
    "from tensorflow.keras.models import Model\n",
    "from tensorflow.keras.losses import mse\n",
    "import os\n",
    "from pretty_midi import PrettyMIDI\n",
    "\n",
    "def parse_piano_roll(file_path, resolution=50):\n",
    "    \"\"\"\n",
    "    Parse MIDI file to extract piano roll (binary or velocity-based).\n",
    "    \"\"\"\n",
    "    midi = PrettyMIDI(file_path)\n",
    "    piano_roll = midi.get_piano_roll(fs=resolution)  # Shape: (128, time_steps)\n",
    "    return piano_roll.T  # Transpose to (time_steps, 128)\n",
    "\n",
    "def prepare_piano_sequences(piano_roll, sequence_length=50):\n",
    "    \"\"\"\n",
    "    Prepare sequences of piano roll data for LSTM.\n",
    "    \"\"\"\n",
    "    sequences = []\n",
    "    for i in range(len(piano_roll) - sequence_length):\n",
    "        seq = piano_roll[i:i+sequence_length]\n",
    "        sequences.append(seq)\n",
    "    return np.array(sequences)\n",
    "\n",
    "# Step 2: Build the LSTM-VAE model\n",
    "\n",
    "latent_dim = 64\n",
    "sequence_length = 50\n",
    "input_dim = 128  # MIDI note range\n",
    "\n",
    "# Encoder\n",
    "inputs = Input(shape=(sequence_length, input_dim))\n",
    "x = LSTM(128, return_sequences=True)(inputs)\n",
    "x = LSTM(64)(x)\n",
    "z_mean = Dense(latent_dim)(x)\n",
    "z_log_var = Dense(latent_dim)(x)\n",
    "\n",
    "# Reparameterization trick\n",
    "def sampling(args):\n",
    "    z_mean, z_log_var = args\n",
    "    batch = tf.shape(z_mean)[0]\n",
    "    dim = tf.shape(z_mean)[1]\n",
    "    epsilon = tf.keras.backend.random_normal(shape=(batch, dim))\n",
    "    return z_mean + tf.exp(0.5 * z_log_var) * epsilon\n",
    "\n",
    "z = Lambda(sampling)([z_mean, z_log_var])\n",
    "\n",
    "# Decoder\n",
    "decoder_inputs = Input(shape=(latent_dim,))\n",
    "x = RepeatVector(sequence_length)(decoder_inputs)\n",
    "x = LSTM(64, return_sequences=True)(x)\n",
    "x = LSTM(128, return_sequences=True)(x)\n",
    "outputs = TimeDistributed(Dense(input_dim, activation='sigmoid'))(x)\n",
    "\n",
    "# Define models\n",
    "encoder = Model(inputs, [z_mean, z_log_var, z], name=\"encoder\")\n",
    "decoder = Model(decoder_inputs, outputs, name=\"decoder\")\n",
    "\n",
    "# VAE model\n",
    "vae_outputs = decoder(encoder(inputs)[2])\n",
    "vae = Model(inputs, vae_outputs, name=\"vae\")\n",
    "\n",
    "# Loss function\n",
    "\n",
    "vae.compile(optimizer='adam')\n",
    "\n",
    "# Step 3: Train the model\n",
    "\n",
    "def train_model_piano_roll(midi_folder, epochs=10, batch_size=32):\n",
    "    \"\"\"\n",
    "    Train the VAE on piano roll data from a folder.\n",
    "    \"\"\"\n",
    "    all_sequences = []\n",
    "    for file_name in os.listdir(midi_folder):\n",
    "        file_path = os.path.join(midi_folder, file_name)\n",
    "        if file_path.endswith('.mid'):\n",
    "            try:\n",
    "                piano_roll = parse_piano_roll(file_path)\n",
    "                sequences = prepare_piano_sequences(piano_roll, sequence_length)\n",
    "                \n",
    "                if len(sequences) == 0:\n",
    "                    print(f\"No valid sequences generated from {file_name}. Skipping.\")\n",
    "                    continue\n",
    "                \n",
    "                all_sequences.extend(sequences)\n",
    "            except Exception as e:\n",
    "                print(f\"Error processing {file_name}: {e}\")\n",
    "    \n",
    "    if len(all_sequences) == 0:\n",
    "        raise ValueError(\"No valid sequences found in the dataset. Check your MIDI files.\")\n",
    "    \n",
    "    all_sequences = np.array(all_sequences)\n",
    "    print(\"Dataset Shape:\", all_sequences.shape)\n",
    "    print(\"Contains NaNs:\", np.isnan(all_sequences).any())\n",
    "    print(\"Data Type:\", all_sequences.dtype)\n",
    "    print(\"Value Range: Min =\", np.min(all_sequences), \"Max =\", np.max(all_sequences))\n",
    "    \n",
    "    vae.fit(all_sequences, epochs=epochs, batch_size=batch_size)\n",
    "\n",
    "# Step 4: Generate music\n",
    "\n",
    "def generate_music(latent_vector=None):\n",
    "    \"\"\"\n",
    "    Generate music from the trained VAE model.\n",
    "    \"\"\"\n",
    "    if latent_vector is None:\n",
    "        latent_vector = np.random.normal(size=(1, latent_dim))\n",
    "    generated_sequence = decoder.predict(latent_vector)\n",
    "    return generated_sequence\n",
    "\n",
    "# Example Usage\n",
    "midi_folder = \"/home/fariborz/courses/Research/data/maestro-v2.0.0/2006\"  # Replace with your MIDI folder path\n",
    "train_model_piano_roll(midi_folder, epochs=20)\n",
    "latent_vector = np.random.normal(size=(1, latent_dim))\n",
    "generated_sequence = generate_music(latent_vector)\n",
    "print(\"Generated Music Sequence:\", generated_sequence)\n"
   ]
  },
  {
   "cell_type": "code",
   "execution_count": 46,
   "id": "a092786a",
   "metadata": {},
   "outputs": [
    {
     "data": {
      "text/html": [
       "<pre style=\"white-space:pre;overflow-x:auto;line-height:normal;font-family:Menlo,'DejaVu Sans Mono',consolas,'Courier New',monospace\"><span style=\"font-weight: bold\">Model: \"vae\"</span>\n",
       "</pre>\n"
      ],
      "text/plain": [
       "\u001b[1mModel: \"vae\"\u001b[0m\n"
      ]
     },
     "metadata": {},
     "output_type": "display_data"
    },
    {
     "data": {
      "text/html": [
       "<pre style=\"white-space:pre;overflow-x:auto;line-height:normal;font-family:Menlo,'DejaVu Sans Mono',consolas,'Courier New',monospace\">┏━━━━━━━━━━━━━━━━━━━━━━━━━━━━━━━━━┳━━━━━━━━━━━━━━━━━━━━━━━━┳━━━━━━━━━━━━━━━┓\n",
       "┃<span style=\"font-weight: bold\"> Layer (type)                    </span>┃<span style=\"font-weight: bold\"> Output Shape           </span>┃<span style=\"font-weight: bold\">       Param # </span>┃\n",
       "┡━━━━━━━━━━━━━━━━━━━━━━━━━━━━━━━━━╇━━━━━━━━━━━━━━━━━━━━━━━━╇━━━━━━━━━━━━━━━┩\n",
       "│ input_layer_19 (<span style=\"color: #0087ff; text-decoration-color: #0087ff\">InputLayer</span>)     │ (<span style=\"color: #00d7ff; text-decoration-color: #00d7ff\">None</span>, <span style=\"color: #00af00; text-decoration-color: #00af00\">50</span>, <span style=\"color: #00af00; text-decoration-color: #00af00\">3</span>)          │             <span style=\"color: #00af00; text-decoration-color: #00af00\">0</span> │\n",
       "├─────────────────────────────────┼────────────────────────┼───────────────┤\n",
       "│ encoder (<span style=\"color: #0087ff; text-decoration-color: #0087ff\">Functional</span>)            │ [(<span style=\"color: #00d7ff; text-decoration-color: #00d7ff\">None</span>, <span style=\"color: #00af00; text-decoration-color: #00af00\">64</span>), (<span style=\"color: #00d7ff; text-decoration-color: #00d7ff\">None</span>,    │       <span style=\"color: #00af00; text-decoration-color: #00af00\">125,312</span> │\n",
       "│                                 │ <span style=\"color: #00af00; text-decoration-color: #00af00\">64</span>), (<span style=\"color: #00d7ff; text-decoration-color: #00d7ff\">None</span>, <span style=\"color: #00af00; text-decoration-color: #00af00\">64</span>)]       │               │\n",
       "├─────────────────────────────────┼────────────────────────┼───────────────┤\n",
       "│ decoder (<span style=\"color: #0087ff; text-decoration-color: #0087ff\">Functional</span>)            │ (<span style=\"color: #00d7ff; text-decoration-color: #00d7ff\">None</span>, <span style=\"color: #00af00; text-decoration-color: #00af00\">50</span>, <span style=\"color: #00af00; text-decoration-color: #00af00\">3</span>)          │       <span style=\"color: #00af00; text-decoration-color: #00af00\">132,227</span> │\n",
       "└─────────────────────────────────┴────────────────────────┴───────────────┘\n",
       "</pre>\n"
      ],
      "text/plain": [
       "┏━━━━━━━━━━━━━━━━━━━━━━━━━━━━━━━━━┳━━━━━━━━━━━━━━━━━━━━━━━━┳━━━━━━━━━━━━━━━┓\n",
       "┃\u001b[1m \u001b[0m\u001b[1mLayer (type)                   \u001b[0m\u001b[1m \u001b[0m┃\u001b[1m \u001b[0m\u001b[1mOutput Shape          \u001b[0m\u001b[1m \u001b[0m┃\u001b[1m \u001b[0m\u001b[1m      Param #\u001b[0m\u001b[1m \u001b[0m┃\n",
       "┡━━━━━━━━━━━━━━━━━━━━━━━━━━━━━━━━━╇━━━━━━━━━━━━━━━━━━━━━━━━╇━━━━━━━━━━━━━━━┩\n",
       "│ input_layer_19 (\u001b[38;5;33mInputLayer\u001b[0m)     │ (\u001b[38;5;45mNone\u001b[0m, \u001b[38;5;34m50\u001b[0m, \u001b[38;5;34m3\u001b[0m)          │             \u001b[38;5;34m0\u001b[0m │\n",
       "├─────────────────────────────────┼────────────────────────┼───────────────┤\n",
       "│ encoder (\u001b[38;5;33mFunctional\u001b[0m)            │ [(\u001b[38;5;45mNone\u001b[0m, \u001b[38;5;34m64\u001b[0m), (\u001b[38;5;45mNone\u001b[0m,    │       \u001b[38;5;34m125,312\u001b[0m │\n",
       "│                                 │ \u001b[38;5;34m64\u001b[0m), (\u001b[38;5;45mNone\u001b[0m, \u001b[38;5;34m64\u001b[0m)]       │               │\n",
       "├─────────────────────────────────┼────────────────────────┼───────────────┤\n",
       "│ decoder (\u001b[38;5;33mFunctional\u001b[0m)            │ (\u001b[38;5;45mNone\u001b[0m, \u001b[38;5;34m50\u001b[0m, \u001b[38;5;34m3\u001b[0m)          │       \u001b[38;5;34m132,227\u001b[0m │\n",
       "└─────────────────────────────────┴────────────────────────┴───────────────┘\n"
      ]
     },
     "metadata": {},
     "output_type": "display_data"
    },
    {
     "data": {
      "text/html": [
       "<pre style=\"white-space:pre;overflow-x:auto;line-height:normal;font-family:Menlo,'DejaVu Sans Mono',consolas,'Courier New',monospace\"><span style=\"font-weight: bold\"> Total params: </span><span style=\"color: #00af00; text-decoration-color: #00af00\">257,539</span> (1006.01 KB)\n",
       "</pre>\n"
      ],
      "text/plain": [
       "\u001b[1m Total params: \u001b[0m\u001b[38;5;34m257,539\u001b[0m (1006.01 KB)\n"
      ]
     },
     "metadata": {},
     "output_type": "display_data"
    },
    {
     "data": {
      "text/html": [
       "<pre style=\"white-space:pre;overflow-x:auto;line-height:normal;font-family:Menlo,'DejaVu Sans Mono',consolas,'Courier New',monospace\"><span style=\"font-weight: bold\"> Trainable params: </span><span style=\"color: #00af00; text-decoration-color: #00af00\">257,539</span> (1006.01 KB)\n",
       "</pre>\n"
      ],
      "text/plain": [
       "\u001b[1m Trainable params: \u001b[0m\u001b[38;5;34m257,539\u001b[0m (1006.01 KB)\n"
      ]
     },
     "metadata": {},
     "output_type": "display_data"
    },
    {
     "data": {
      "text/html": [
       "<pre style=\"white-space:pre;overflow-x:auto;line-height:normal;font-family:Menlo,'DejaVu Sans Mono',consolas,'Courier New',monospace\"><span style=\"font-weight: bold\"> Non-trainable params: </span><span style=\"color: #00af00; text-decoration-color: #00af00\">0</span> (0.00 B)\n",
       "</pre>\n"
      ],
      "text/plain": [
       "\u001b[1m Non-trainable params: \u001b[0m\u001b[38;5;34m0\u001b[0m (0.00 B)\n"
      ]
     },
     "metadata": {},
     "output_type": "display_data"
    },
    {
     "name": "stdout",
     "output_type": "stream",
     "text": [
      "None\n"
     ]
    }
   ],
   "source": [
    "print(vae.summary())\n"
   ]
  },
  {
   "cell_type": "code",
   "execution_count": 47,
   "id": "bbc80445",
   "metadata": {},
   "outputs": [
    {
     "name": "stdout",
     "output_type": "stream",
     "text": [
      "\u001b[1m1/1\u001b[0m \u001b[32m━━━━━━━━━━━━━━━━━━━━\u001b[0m\u001b[37m\u001b[0m \u001b[1m1s\u001b[0m 548ms/step\n"
     ]
    },
    {
     "data": {
      "text/plain": [
       "array([[[-1.35277249e-02,  2.86675058e-04,  1.49522796e-02],\n",
       "        [-3.05264071e-02,  4.79303906e-03,  3.35024446e-02],\n",
       "        [-4.73046415e-02,  1.46503523e-02,  4.91696186e-02],\n",
       "        ...,\n",
       "        [-2.21401811e-01,  2.00594783e-01,  3.81022915e-02],\n",
       "        [-2.21436411e-01,  2.00636327e-01,  3.81071568e-02],\n",
       "        [-2.21466601e-01,  2.00673923e-01,  3.81120034e-02]],\n",
       "\n",
       "       [[ 1.29920822e-02, -2.32630707e-02,  1.84037499e-02],\n",
       "        [ 2.92061307e-02, -4.55401726e-02,  4.72427011e-02],\n",
       "        [ 4.40736227e-02, -5.97609915e-02,  7.84114525e-02],\n",
       "        ...,\n",
       "        [ 7.10113943e-02,  6.94557326e-03,  1.67632148e-01],\n",
       "        [ 7.10363388e-02,  6.93544699e-03,  1.67613715e-01],\n",
       "        [ 7.10585788e-02,  6.92440104e-03,  1.67597339e-01]],\n",
       "\n",
       "       [[ 1.20773269e-02, -6.28912961e-03, -3.43614654e-03],\n",
       "        [ 2.42056623e-02, -1.07332570e-02, -1.77653634e-03],\n",
       "        [ 3.13999094e-02, -1.09076956e-02,  6.67192088e-03],\n",
       "        ...,\n",
       "        [-4.27152403e-02,  1.02428466e-01,  1.76020026e-01],\n",
       "        [-4.27823551e-02,  1.02446891e-01,  1.76026225e-01],\n",
       "        [-4.28402089e-02,  1.02462269e-01,  1.76030889e-01]],\n",
       "\n",
       "       ...,\n",
       "\n",
       "       [[-1.96933653e-02,  1.88884232e-02,  1.63679663e-02],\n",
       "        [-3.84659916e-02,  4.24362123e-02,  3.50367837e-02],\n",
       "        [-5.06514981e-02,  6.47305399e-02,  5.02136722e-02],\n",
       "        ...,\n",
       "        [-8.34061019e-03,  9.96296033e-02,  7.63880089e-02],\n",
       "        [-8.32978822e-03,  9.96198952e-02,  7.63858706e-02],\n",
       "        [-8.32005218e-03,  9.96116400e-02,  7.63837546e-02]],\n",
       "\n",
       "       [[-1.14375893e-02, -3.26098427e-02,  6.00345060e-03],\n",
       "        [-2.84881834e-02, -6.84649944e-02,  1.91094168e-02],\n",
       "        [-4.89449762e-02, -9.73575786e-02,  3.72112393e-02],\n",
       "        ...,\n",
       "        [-3.06292802e-01, -1.35941118e-01,  1.52811736e-01],\n",
       "        [-3.06332231e-01, -1.35885254e-01,  1.52822107e-01],\n",
       "        [-3.06367725e-01, -1.35836005e-01,  1.52832463e-01]],\n",
       "\n",
       "       [[-1.59537867e-02, -6.95627322e-03, -3.08160409e-02],\n",
       "        [-3.97526026e-02, -1.52226705e-02, -7.35969841e-02],\n",
       "        [-6.33293316e-02, -2.06440631e-02, -1.18167534e-01],\n",
       "        ...,\n",
       "        [-9.40149426e-02, -2.43422631e-02, -4.32304323e-01],\n",
       "        [-9.38124359e-02, -2.44400669e-02, -4.32437032e-01],\n",
       "        [-9.36242864e-02, -2.45287288e-02, -4.32557344e-01]]],\n",
       "      dtype=float32)"
      ]
     },
     "execution_count": 47,
     "metadata": {},
     "output_type": "execute_result"
    }
   ],
   "source": [
    "test_batch = np.random.rand(32, 50, 3)  # Example batch with matching shape\n",
    "vae.predict(test_batch)\n"
   ]
  },
  {
   "cell_type": "code",
   "execution_count": 48,
   "id": "304248bd",
   "metadata": {},
   "outputs": [
    {
     "name": "stdout",
     "output_type": "stream",
     "text": [
      "(None, 50, 3) (None, 50, 3)\n"
     ]
    }
   ],
   "source": [
    "print(inputs.shape, vae_outputs.shape)\n"
   ]
  },
  {
   "cell_type": "code",
   "execution_count": null,
   "id": "46af0280",
   "metadata": {},
   "outputs": [
    {
     "ename": "NameError",
     "evalue": "name 'all_sequences' is not defined",
     "output_type": "error",
     "traceback": [
      "\u001b[0;31m---------------------------------------------------------------------------\u001b[0m",
      "\u001b[0;31mNameError\u001b[0m                                 Traceback (most recent call last)",
      "Cell \u001b[0;32mIn[49], line 16\u001b[0m\n\u001b[1;32m     13\u001b[0m     \u001b[38;5;28mprint\u001b[39m(\u001b[38;5;124m\"\u001b[39m\u001b[38;5;124mSample Sequence:\u001b[39m\u001b[38;5;130;01m\\n\u001b[39;00m\u001b[38;5;124m\"\u001b[39m, dataset[\u001b[38;5;241m0\u001b[39m])\n\u001b[1;32m     15\u001b[0m \u001b[38;5;66;03m# Assuming your dataset is called `all_sequences`\u001b[39;00m\n\u001b[0;32m---> 16\u001b[0m debug_dataset(\u001b[43mall_sequences\u001b[49m)\n",
      "\u001b[0;31mNameError\u001b[0m: name 'all_sequences' is not defined"
     ]
    }
   ],
   "source": []
  },
  {
   "cell_type": "code",
   "execution_count": null,
   "id": "336b2efc",
   "metadata": {},
   "outputs": [],
   "source": []
  },
  {
   "cell_type": "code",
   "execution_count": null,
   "id": "1710376c",
   "metadata": {},
   "outputs": [],
   "source": []
  }
 ],
 "metadata": {
  "kernelspec": {
   "display_name": "MGU",
   "language": "python",
   "name": "python3"
  },
  "language_info": {
   "codemirror_mode": {
    "name": "ipython",
    "version": 3
   },
   "file_extension": ".py",
   "mimetype": "text/x-python",
   "name": "python",
   "nbconvert_exporter": "python",
   "pygments_lexer": "ipython3",
   "version": "3.10.15"
  }
 },
 "nbformat": 4,
 "nbformat_minor": 5
}
