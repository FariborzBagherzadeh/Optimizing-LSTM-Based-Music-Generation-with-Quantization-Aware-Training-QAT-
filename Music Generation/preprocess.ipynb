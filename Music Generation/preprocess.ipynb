{
 "cells": [
  {
   "cell_type": "code",
   "execution_count": 35,
   "metadata": {},
   "outputs": [],
   "source": [
    "import numpy as np\n",
    "import tensorflow as tf\n",
    "import os\n",
    "import music21 as m21"
   ]
  },
  {
   "cell_type": "code",
   "execution_count": 36,
   "metadata": {},
   "outputs": [],
   "source": [
    "KERN_DATASET_PATH = os.path.join(os.getcwd(), 'deutschl/test')\n",
    "ACCEPTABLE_DURATION = [\n",
    "    0.25,\n",
    "    0.5,\n",
    "    0.75,\n",
    "    1.0,\n",
    "    1.5,\n",
    "    2.0,\n",
    "    3.0,\n",
    "    4.0\n",
    "]"
   ]
  },
  {
   "cell_type": "code",
   "execution_count": 37,
   "metadata": {},
   "outputs": [],
   "source": [
    "def load_songs_in_kern(dataset_path):\n",
    "    songs = []\n",
    "    for path, subdir, files in os.walk(dataset_path):\n",
    "        for file in files:\n",
    "            if file.endswith('.krn'):\n",
    "                song = m21.converter.parse(os.path.join(path, file))\n",
    "                songs.append(song)\n",
    "                \n",
    "    return songs"
   ]
  },
  {
   "cell_type": "code",
   "execution_count": 38,
   "metadata": {},
   "outputs": [],
   "source": [
    "def has_acceptable_duration(song,acceptable_duration):\n",
    "    for note in song.flat.notesAndRests:\n",
    "        if note.duration.quarterLength not in acceptable_duration:\n",
    "            return False\n",
    "    return True\n",
    "    "
   ]
  },
  {
   "cell_type": "code",
   "execution_count": 52,
   "metadata": {},
   "outputs": [],
   "source": [
    "def preprocess(dataset_path):\n",
    "    \n",
    "    songs = load_songs_in_kern(dataset_path)\n",
    "    \n",
    "    for song in songs:\n",
    "        if not has_acceptable_duration(song,ACCEPTABLE_DURATION):\n",
    "            print(song)\n",
    "            continue\n",
    "    "
   ]
  },
  {
   "cell_type": "code",
   "execution_count": 53,
   "metadata": {},
   "outputs": [
    {
     "name": "stdout",
     "output_type": "stream",
     "text": [
      "Loaded 12 songs.\n"
     ]
    }
   ],
   "source": [
    "if __name__ == '__main__':\n",
    "    songs = load_songs_in_kern(KERN_DATASET_PATH)\n",
    "    print(\"Loaded {} songs.\".format(len(songs)))\n",
    "    preprocess(KERN_DATASET_PATH)"
   ]
  },
  {
   "cell_type": "code",
   "execution_count": null,
   "metadata": {},
   "outputs": [],
   "source": []
  }
 ],
 "metadata": {
  "kernelspec": {
   "display_name": "LSTM",
   "language": "python",
   "name": "python3"
  },
  "language_info": {
   "codemirror_mode": {
    "name": "ipython",
    "version": 3
   },
   "file_extension": ".py",
   "mimetype": "text/x-python",
   "name": "python",
   "nbconvert_exporter": "python",
   "pygments_lexer": "ipython3",
   "version": "3.9.20"
  }
 },
 "nbformat": 4,
 "nbformat_minor": 2
}
